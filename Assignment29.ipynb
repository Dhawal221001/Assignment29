{
 "cells": [
  {
   "cell_type": "markdown",
   "id": "b55ed85d-4ae5-4d96-84a1-97399017063c",
   "metadata": {},
   "source": [
    "## Q1. What is Statistics?"
   ]
  },
  {
   "cell_type": "markdown",
   "id": "f5d2872d-5311-441d-953e-5d0b562244b6",
   "metadata": {},
   "source": [
    "### Statistics is the science of collecting, organizing and analyzing data."
   ]
  },
  {
   "cell_type": "markdown",
   "id": "3a7d253e-5063-4ab4-9cbc-aacba7edfe89",
   "metadata": {},
   "source": [
    "## Q2. Define the different types of statistics and give an example of when each type might be used."
   ]
  },
  {
   "cell_type": "markdown",
   "id": "0b125b79-953b-412b-9d89-69864365905e",
   "metadata": {},
   "source": [
    "### There are two types of statistics:\n",
    "### 1.Descriptive Statistics: Organizing and summarising the data.\n",
    "### eg- Mean of data.\n",
    "### 2. Inferential Statistics: Giving conclusion on the basis of measured data.\n",
    "### eg- Assuming the average height of college students by analyzing the height of a class."
   ]
  },
  {
   "cell_type": "markdown",
   "id": "cd5f24a9-68e8-4248-8744-c7ee31871179",
   "metadata": {},
   "source": [
    "## Q3. What are the different types of data and how do they differ from each other? Provide an example of each type of data."
   ]
  },
  {
   "cell_type": "markdown",
   "id": "7c41e78c-74d1-4361-baa7-9265aede30dd",
   "metadata": {},
   "source": [
    "### Broadly data is of 4 types:\n",
    "### 1. Discrete data:- It consist of numerical data of whole no. type.\n",
    "### eg- No. of students in a class.\n",
    "### 2. Continous data:- It consist of numerical data of real no. type.\n",
    "### eg- Speed of a car on expressway.\n",
    "### 3. Nominal data:- It consist of categorical data, without ranking.\n",
    "### eg- Gender \n",
    "### 4. Ordinal data:- It consist of categorical data, with ranking.\n",
    "### eg- Grades of a class."
   ]
  },
  {
   "cell_type": "markdown",
   "id": "fd5125d0-38fe-43dc-863c-67f49fe4bb75",
   "metadata": {},
   "source": [
    "## Q4. Categorise the following datasets with respect to quantitative and qualitative data types:\n",
    "### (i) Grading in exam: A+, A, B+, B, C+, C, D, E\n",
    "### (ii) Colour of mangoes: yellow, green, orange, red\n",
    "### (iii) Height data of a class: [178.9, 179, 179.5, 176, 177.2, 178.3, 175.8,...]\n",
    "### (iv) Number of mangoes exported by a farm: [500, 600, 478, 672, ...]"
   ]
  },
  {
   "cell_type": "markdown",
   "id": "fbc638a7-213a-47c7-bff7-2e9bd30b73d9",
   "metadata": {},
   "source": [
    "### Qualitative data:- 1, 2\n",
    "### Quantitaive data:- 3, 4"
   ]
  },
  {
   "cell_type": "markdown",
   "id": "6e089bf9-5527-4556-af16-b6ad1572a84c",
   "metadata": {},
   "source": [
    "## Q5. Explain the concept of levels of measurement and give an example of a variable for each level."
   ]
  },
  {
   "cell_type": "markdown",
   "id": "31849a2c-c093-4280-8f19-11b5662bed85",
   "metadata": {},
   "source": [
    "### Levels of measurement, also called scales of measurement, tell you how precisely variables are recorded.\n",
    "### 1. Nominal: City of birth\n",
    "### 2. Ordinal: Language Ability\n",
    "### 3. Interval scale data: Temperature in Celcius\n",
    "### 4. Ratio scale data: Height "
   ]
  },
  {
   "cell_type": "markdown",
   "id": "26f2b09d-d3e2-40bd-b537-a6744790fe66",
   "metadata": {},
   "source": [
    "## Q6. Why is it important to understand the level of measurement when analyzing data? Provide an example to illustrate your answer."
   ]
  },
  {
   "cell_type": "markdown",
   "id": "f87ef603-1a5c-4bac-b5ad-10b72467725a",
   "metadata": {},
   "source": [
    "### Level of measurement determines the approproate statistical tests that can be used and affects the interpretation of results. It also tells how precisely variables are recorded."
   ]
  },
  {
   "cell_type": "markdown",
   "id": "8db30904-b281-47e8-a455-eb278b385bb2",
   "metadata": {},
   "source": [
    "## You can measure the variable of income at an ordinal or ratio level.\n",
    "### Ordinal level: You create brackets of income ranges: $0–$19,999, $20,000–$39,999, and $40,000–$59,999. You ask participants to select the bracket that represents their annual income. The brackets are coded with numbers from 1–3.\n",
    "### Ratio level: You collect data on the exact annual incomes of your participants.\n",
    "### Participant\tIncome (ordinal level)\tIncome (ratio level)\n",
    "###  A\t         Bracket 1\t             $12,550\n",
    "\n",
    "###  B\t         Bracket 2\t             $39,700\n",
    "\n",
    "###  C\t         Bracket 3\t             $40,300\n",
    "### At a ratio level, you can see that the difference between A and B’s incomes is far greater than the difference between B and C’s incomes.\n",
    "\n",
    "### At an ordinal level, however, you only know the income bracket for each participant, not their exact income. Since you cannot say exactly how much each income differs from the others in your data set, you can only order the income levels and group the participants."
   ]
  },
  {
   "cell_type": "markdown",
   "id": "5821c5e1-67a4-461b-baeb-8769ceb92525",
   "metadata": {},
   "source": [
    "## Q7. How nominal data type is different from ordinal data type."
   ]
  },
  {
   "cell_type": "markdown",
   "id": "80acf96b-4597-4168-984a-a8897347b07f",
   "metadata": {},
   "source": [
    "### The only difference between ordinal and nominal data is that ordinal data can be ranked while nominal cannot."
   ]
  },
  {
   "cell_type": "markdown",
   "id": "c0ac7de6-51f4-4c0b-a36d-a9abe3409b65",
   "metadata": {},
   "source": [
    "## Q8. Which type of plot can be used to display data in terms of range?"
   ]
  },
  {
   "cell_type": "markdown",
   "id": "61670c93-877b-4f09-88af-96171f2d1a1a",
   "metadata": {},
   "source": [
    "## Histogram"
   ]
  },
  {
   "cell_type": "markdown",
   "id": "4e5fa9c2-fe58-4519-a203-5a4659f924b1",
   "metadata": {},
   "source": [
    "## Q9. Describe the difference between descriptive and inferential statistics. Give an example of each type of statistics and explain how they are used."
   ]
  },
  {
   "cell_type": "markdown",
   "id": "ed77d7d5-9697-4e1d-8885-7f0c799f3c44",
   "metadata": {},
   "source": [
    "### There are two types of statistics:\n",
    "### 1.Descriptive Statistics: Organizing and summarising the data.\n",
    "### eg- Mean of data.\n",
    "### 2. Inferential Statistics: Giving conclusion on the basis of measured data.\n",
    "### eg- Assuming the average height of college students by analyzing the height of a class."
   ]
  },
  {
   "cell_type": "markdown",
   "id": "369a59f1-c9ce-49f1-b666-046e8d3af18e",
   "metadata": {},
   "source": [
    "## Q10. What are some common measures of central tendency and variability used in statistics? Explain how each measure can be used to describe a dataset."
   ]
  },
  {
   "cell_type": "markdown",
   "id": "0ad56b88-10e9-44ab-af19-1854fbe526fa",
   "metadata": {},
   "source": [
    "## Measures of Central Tendency:\n",
    "### 1. Mean: It calculates the average of data.\n",
    "### 2. Median: It calculates the medium value of ordered data.\n",
    "### 3. Mode: It gives the data with maximum number of frequency.\n",
    "\n",
    "## Measures of Variability:\n",
    "### 1. Range: It gives the difference between largest and smallest values.\n",
    "### 2. Interquartile range: It is the range of middle 50% distribution.\n",
    "### 3. Variance: It is the average squared difference of the scores from the mean.\n",
    "### 4. Standard deviation: It average amount by which scores differ from the mean."
   ]
  },
  {
   "cell_type": "code",
   "execution_count": null,
   "id": "5b2708f9-fef0-4a7d-800b-475af6279a3c",
   "metadata": {},
   "outputs": [],
   "source": []
  }
 ],
 "metadata": {
  "kernelspec": {
   "display_name": "Python 3 (ipykernel)",
   "language": "python",
   "name": "python3"
  },
  "language_info": {
   "codemirror_mode": {
    "name": "ipython",
    "version": 3
   },
   "file_extension": ".py",
   "mimetype": "text/x-python",
   "name": "python",
   "nbconvert_exporter": "python",
   "pygments_lexer": "ipython3",
   "version": "3.10.8"
  }
 },
 "nbformat": 4,
 "nbformat_minor": 5
}
